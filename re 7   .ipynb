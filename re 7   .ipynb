{
 "cells": [
  {
   "cell_type": "code",
   "execution_count": 23,
   "id": "7d6359c9-0b7b-4601-95ac-a7b8e6751065",
   "metadata": {},
   "outputs": [],
   "source": [
    "import re "
   ]
  },
  {
   "cell_type": "code",
   "execution_count": 24,
   "id": "f0fbd719-0b0b-4bd4-949a-e67ac892e021",
   "metadata": {},
   "outputs": [],
   "source": [
    "ee_id =re.compile(r'\\d{8}')"
   ]
  },
  {
   "cell_type": "code",
   "execution_count": 25,
   "id": "7a59c7b6-8993-4b86-8c7b-c382ad41089c",
   "metadata": {},
   "outputs": [],
   "source": [
    "last_first=re.compile(r'\\w+,\\s\\w+')\n"
   ]
  },
  {
   "cell_type": "code",
   "execution_count": 31,
   "id": "168ad924-b7ae-4906-be19-db66fa9341bf",
   "metadata": {},
   "outputs": [],
   "source": [
    "dollar=re.compile(r'\\$[\\d,]+\\.\\d{2}') "
   ]
  },
  {
   "cell_type": "code",
   "execution_count": 32,
   "id": "b5fc2d42-3b49-481f-bfaa-41b065e82191",
   "metadata": {},
   "outputs": [],
   "source": [
    "line=\"12345678 smith, bobby $1,534.25  $26.99\""
   ]
  },
  {
   "cell_type": "code",
   "execution_count": 33,
   "id": "bce20e0e-c611-4abf-9b31-bf5f1a4a53a9",
   "metadata": {},
   "outputs": [
    {
     "data": {
      "text/plain": [
       "<re.Match object; span=(0, 8), match='12345678'>"
      ]
     },
     "execution_count": 33,
     "metadata": {},
     "output_type": "execute_result"
    }
   ],
   "source": [
    "ee_id.search(line)"
   ]
  },
  {
   "cell_type": "code",
   "execution_count": 34,
   "id": "fb6e5808-152f-4ea7-b0b8-fbfa5a442863",
   "metadata": {},
   "outputs": [
    {
     "data": {
      "text/plain": [
       "<re.Match object; span=(9, 21), match='smith, bobby'>"
      ]
     },
     "execution_count": 34,
     "metadata": {},
     "output_type": "execute_result"
    }
   ],
   "source": [
    "last_first.search(line)"
   ]
  },
  {
   "cell_type": "code",
   "execution_count": 35,
   "id": "9e1e21da-211f-45bc-9900-dd48c3c1199e",
   "metadata": {},
   "outputs": [
    {
     "data": {
      "text/plain": [
       "<re.Match object; span=(22, 31), match='$1,534.25'>"
      ]
     },
     "execution_count": 35,
     "metadata": {},
     "output_type": "execute_result"
    }
   ],
   "source": [
    "dollar.search(line)"
   ]
  },
  {
   "cell_type": "code",
   "execution_count": 36,
   "id": "3dfbbe2c-838c-4cc4-b3da-641ae5fe1686",
   "metadata": {},
   "outputs": [],
   "source": [
    "line_re=re.compile(rf'({ee_id.pattern})\\s+({last_first.pattern})\\s+({dollar.pattern})\\s+({dollar.pattern})')"
   ]
  },
  {
   "cell_type": "code",
   "execution_count": 37,
   "id": "d4060676-50a1-47fe-b700-d478e5d12682",
   "metadata": {},
   "outputs": [],
   "source": [
    "found=line_re.search(line)"
   ]
  },
  {
   "cell_type": "code",
   "execution_count": 38,
   "id": "ff0f3c98-8d2e-47ed-8eac-07f80b09df92",
   "metadata": {},
   "outputs": [
    {
     "name": "stdout",
     "output_type": "stream",
     "text": [
      "<re.Match object; span=(0, 39), match='12345678 smith, bobby $1,534.25  $26.99'>\n"
     ]
    }
   ],
   "source": [
    "print(found)"
   ]
  },
  {
   "cell_type": "code",
   "execution_count": 40,
   "id": "e217cc4f-4773-4060-8203-09d8641c11c8",
   "metadata": {},
   "outputs": [],
   "source": [
    "ee_id, name, dollar1, dollar2=found.groups()"
   ]
  },
  {
   "cell_type": "code",
   "execution_count": 42,
   "id": "d5cb4428-3c9f-4739-8cb2-d428e91edf13",
   "metadata": {},
   "outputs": [],
   "source": [
    "# import data to pandas \n",
    "import pandas as pd \n",
    "df=pd.DataFrame([[ee_id, name, dollar1, dollar2]],columns=['ee_id','name','dollar1','dollar2'])"
   ]
  },
  {
   "cell_type": "code",
   "execution_count": 43,
   "id": "1f7a4b25-0e51-4386-9559-180f7ea6f283",
   "metadata": {},
   "outputs": [
    {
     "data": {
      "text/html": [
       "<div>\n",
       "<style scoped>\n",
       "    .dataframe tbody tr th:only-of-type {\n",
       "        vertical-align: middle;\n",
       "    }\n",
       "\n",
       "    .dataframe tbody tr th {\n",
       "        vertical-align: top;\n",
       "    }\n",
       "\n",
       "    .dataframe thead th {\n",
       "        text-align: right;\n",
       "    }\n",
       "</style>\n",
       "<table border=\"1\" class=\"dataframe\">\n",
       "  <thead>\n",
       "    <tr style=\"text-align: right;\">\n",
       "      <th></th>\n",
       "      <th>ee_id</th>\n",
       "      <th>name</th>\n",
       "      <th>dollar1</th>\n",
       "      <th>dollar2</th>\n",
       "    </tr>\n",
       "  </thead>\n",
       "  <tbody>\n",
       "    <tr>\n",
       "      <th>0</th>\n",
       "      <td>12345678</td>\n",
       "      <td>smith, bobby</td>\n",
       "      <td>$1,534.25</td>\n",
       "      <td>$26.99</td>\n",
       "    </tr>\n",
       "  </tbody>\n",
       "</table>\n",
       "</div>"
      ],
      "text/plain": [
       "      ee_id          name    dollar1 dollar2\n",
       "0  12345678  smith, bobby  $1,534.25  $26.99"
      ]
     },
     "execution_count": 43,
     "metadata": {},
     "output_type": "execute_result"
    }
   ],
   "source": [
    "df"
   ]
  },
  {
   "cell_type": "code",
   "execution_count": 44,
   "id": "5b4ad823-08cc-4ada-99c2-5da60cf82ebd",
   "metadata": {},
   "outputs": [],
   "source": [
    "#save to excel\n",
    "df.to_excel(\"output.xlsx\")"
   ]
  },
  {
   "cell_type": "code",
   "execution_count": null,
   "id": "d780413a-4196-47e6-8f87-0426f494c2aa",
   "metadata": {},
   "outputs": [],
   "source": []
  }
 ],
 "metadata": {
  "kernelspec": {
   "display_name": "Python 3 (ipykernel)",
   "language": "python",
   "name": "python3"
  },
  "language_info": {
   "codemirror_mode": {
    "name": "ipython",
    "version": 3
   },
   "file_extension": ".py",
   "mimetype": "text/x-python",
   "name": "python",
   "nbconvert_exporter": "python",
   "pygments_lexer": "ipython3",
   "version": "3.11.7"
  }
 },
 "nbformat": 4,
 "nbformat_minor": 5
}
