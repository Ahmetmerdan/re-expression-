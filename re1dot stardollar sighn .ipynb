{
 "cells": [
  {
   "cell_type": "code",
   "execution_count": 10,
   "id": "9b4758cd-501b-4c12-b6ae-d3bc2b619ddd",
   "metadata": {},
   "outputs": [
    {
     "name": "stdout",
     "output_type": "stream",
     "text": [
      "dogry\n"
     ]
    }
   ],
   "source": [
    "import  re \n",
    "txt=\"hello world !\"\n",
    "x=re.search(\"hello\", txt)\n",
    "if x:\n",
    "    print(\"dogry\")\n",
    "else:\n",
    "    print(\"tapylmady\")\n"
   ]
  },
  {
   "cell_type": "code",
   "execution_count": 12,
   "id": "b070a43c-55be-425e-bdfd-8c245ca5d4c4",
   "metadata": {},
   "outputs": [
    {
     "data": {
      "text/plain": [
       "<re.Match object; span=(0, 3), match='hel'>"
      ]
     },
     "execution_count": 12,
     "metadata": {},
     "output_type": "execute_result"
    }
   ],
   "source": [
    "text= \"hello juma\"\n",
    "re.search('...', text)"
   ]
  },
  {
   "cell_type": "code",
   "execution_count": 13,
   "id": "134e8790-fd33-47ef-9e13-fe84b84038e1",
   "metadata": {},
   "outputs": [
    {
     "data": {
      "text/plain": [
       "<re.Match object; span=(6, 9), match='bab'>"
      ]
     },
     "execution_count": 13,
     "metadata": {},
     "output_type": "execute_result"
    }
   ],
   "source": [
    "text=\"hello bab\"\n",
    "re.search('b.b',text)\n"
   ]
  },
  {
   "cell_type": "code",
   "execution_count": 16,
   "id": "7fb93b78-c6e7-40c6-ad4c-b68d7c48bb58",
   "metadata": {},
   "outputs": [
    {
     "data": {
      "text/plain": [
       "<re.Match object; span=(4, 28), match='Hello it is great to see'>"
      ]
     },
     "execution_count": 16,
     "metadata": {},
     "output_type": "execute_result"
    }
   ],
   "source": [
    "text=\"wow Hello it is great to see you today \"\n",
    "re.search(\"Hello.*see\",text)"
   ]
  },
  {
   "cell_type": "code",
   "execution_count": 17,
   "id": "4b2029e5-209e-443d-bf40-a5c7bb0ce124",
   "metadata": {},
   "outputs": [
    {
     "data": {
      "text/plain": [
       "<re.Match object; span=(0, 3), match='wow'>"
      ]
     },
     "execution_count": 17,
     "metadata": {},
     "output_type": "execute_result"
    }
   ],
   "source": [
    "re.search(\"^wow\",text)"
   ]
  },
  {
   "cell_type": "code",
   "execution_count": 18,
   "id": "fd7720dc-49b9-4e89-bc98-1f7473dd05f6",
   "metadata": {},
   "outputs": [
    {
     "data": {
      "text/plain": [
       "<re.Match object; span=(33, 39), match='today '>"
      ]
     },
     "execution_count": 18,
     "metadata": {},
     "output_type": "execute_result"
    }
   ],
   "source": [
    "re.search(\"today.$\",text)"
   ]
  },
  {
   "cell_type": "code",
   "execution_count": null,
   "id": "b420cc88-cd53-4f5c-909f-e5effd34f6c0",
   "metadata": {},
   "outputs": [],
   "source": []
  }
 ],
 "metadata": {
  "kernelspec": {
   "display_name": "Python 3 (ipykernel)",
   "language": "python",
   "name": "python3"
  },
  "language_info": {
   "codemirror_mode": {
    "name": "ipython",
    "version": 3
   },
   "file_extension": ".py",
   "mimetype": "text/x-python",
   "name": "python",
   "nbconvert_exporter": "python",
   "pygments_lexer": "ipython3",
   "version": "3.11.7"
  }
 },
 "nbformat": 4,
 "nbformat_minor": 5
}
