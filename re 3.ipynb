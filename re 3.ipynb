{
 "cells": [
  {
   "cell_type": "code",
   "execution_count": 4,
   "id": "7d7e9279-6b37-44c6-bea1-3ea1e269bf9b",
   "metadata": {},
   "outputs": [],
   "source": [
    "import re\n"
   ]
  },
  {
   "cell_type": "code",
   "execution_count": 10,
   "id": "349bb05b-74b1-4a27-8db2-069d3178ddff",
   "metadata": {},
   "outputs": [],
   "source": [
    "s=\"bob has birthday on Feb 25th \""
   ]
  },
  {
   "cell_type": "code",
   "execution_count": 15,
   "id": "0eef2800-e768-43a7-80c7-30874a50b8d0",
   "metadata": {},
   "outputs": [],
   "source": [
    "birthday_re=re.compile('\\w+ \\d+\\w\\w')"
   ]
  },
  {
   "cell_type": "code",
   "execution_count": 16,
   "id": "b459b8aa-cc5f-44ab-91c5-b68bbc6fa807",
   "metadata": {},
   "outputs": [
    {
     "data": {
      "text/plain": [
       "<re.Match object; span=(20, 28), match='Feb 25th'>"
      ]
     },
     "execution_count": 16,
     "metadata": {},
     "output_type": "execute_result"
    }
   ],
   "source": [
    "birthday_re.search(s)"
   ]
  },
  {
   "cell_type": "code",
   "execution_count": 18,
   "id": "b2c6ec5d-bfe8-4921-973f-46c16a0175ac",
   "metadata": {},
   "outputs": [
    {
     "data": {
      "text/plain": [
       "<re.Match object; span=(21, 30), match='March 3rd'>"
      ]
     },
     "execution_count": 18,
     "metadata": {},
     "output_type": "execute_result"
    }
   ],
   "source": [
    "s2='Sara has birthday on March 3rd'\n",
    "birthday_re.search(s2)"
   ]
  },
  {
   "cell_type": "code",
   "execution_count": null,
   "id": "bbae970e-496f-4ff7-a944-63463d2f03ca",
   "metadata": {},
   "outputs": [],
   "source": [
    "# /d for digits "
   ]
  }
 ],
 "metadata": {
  "kernelspec": {
   "display_name": "Python 3 (ipykernel)",
   "language": "python",
   "name": "python3"
  },
  "language_info": {
   "codemirror_mode": {
    "name": "ipython",
    "version": 3
   },
   "file_extension": ".py",
   "mimetype": "text/x-python",
   "name": "python",
   "nbconvert_exporter": "python",
   "pygments_lexer": "ipython3",
   "version": "3.11.7"
  }
 },
 "nbformat": 4,
 "nbformat_minor": 5
}
