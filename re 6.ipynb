{
 "cells": [
  {
   "cell_type": "code",
   "execution_count": 1,
   "id": "bb6b7604-ff09-4fc8-9a56-a9b3ce614527",
   "metadata": {},
   "outputs": [],
   "source": [
    "import re"
   ]
  },
  {
   "cell_type": "code",
   "execution_count": 11,
   "id": "7eeed13b-ea55-471e-a8dd-addc5f0c7862",
   "metadata": {},
   "outputs": [],
   "source": [
    "text='''\n",
    "emails to send are as follows:\n",
    "ahmedowahmet475@gmail.com\n",
    "bashimmuha@gmail.com\n",
    "prez@lalaland.far \n",
    "thanks again!'''"
   ]
  },
  {
   "cell_type": "code",
   "execution_count": 12,
   "id": "8a4b7221-25d3-4d5a-9ab4-c81d96cfaa27",
   "metadata": {},
   "outputs": [],
   "source": [
    "email_re=re.compile(r'\\w+@\\w+\\.\\w+')\n"
   ]
  },
  {
   "cell_type": "code",
   "execution_count": 13,
   "id": "16d42c27-2abf-43c6-8255-8ce6bd69653f",
   "metadata": {},
   "outputs": [
    {
     "data": {
      "text/plain": [
       "<re.Match object; span=(0, 25), match='ahmedowahmet475@gmail.com'>"
      ]
     },
     "execution_count": 13,
     "metadata": {},
     "output_type": "execute_result"
    }
   ],
   "source": [
    "email_re.search('ahmedowahmet475@gmail.com')"
   ]
  },
  {
   "cell_type": "code",
   "execution_count": 14,
   "id": "2cd4a3f5-5f3e-4657-9039-9efb18967c89",
   "metadata": {},
   "outputs": [
    {
     "data": {
      "text/plain": [
       "['ahmedowahmet475@gmail.com', 'bashimmuha@gmail.com', 'prez@lalaland.far']"
      ]
     },
     "execution_count": 14,
     "metadata": {},
     "output_type": "execute_result"
    }
   ],
   "source": [
    "email_re.findall(text)"
   ]
  },
  {
   "cell_type": "code",
   "execution_count": 15,
   "id": "7c108ae9-8432-4f90-b1d5-70d713e8deb5",
   "metadata": {},
   "outputs": [],
   "source": [
    "emails=email_re.findall(text)"
   ]
  },
  {
   "cell_type": "code",
   "execution_count": 16,
   "id": "fd510c7f-dfa0-442e-bcca-edbea7831606",
   "metadata": {},
   "outputs": [
    {
     "name": "stdout",
     "output_type": "stream",
     "text": [
      "sending emails to ahmedowahmet475@gmail.com\n",
      "sending emails to bashimmuha@gmail.com\n",
      "sending emails to prez@lalaland.far\n"
     ]
    }
   ],
   "source": [
    "for email in emails:\n",
    "    print(f'sending emails to {email}')"
   ]
  },
  {
   "cell_type": "code",
   "execution_count": 42,
   "id": "13135c36-14e8-4069-a40f-62a991f90d9b",
   "metadata": {},
   "outputs": [],
   "source": [
    "new_text='''\n",
    "emails to send are as follows:\n",
    "ahmet ahmedow - ahmedowahmet475@gmail.com\n",
    "bashim muha - bashimmuha@gmail.com\n",
    "Prez  chary - prez@lalaland.far \n",
    "thanks again!'''"
   ]
  },
  {
   "cell_type": "code",
   "execution_count": 43,
   "id": "25674322-ad5b-4f8d-bf33-2bc1beba6c4e",
   "metadata": {},
   "outputs": [],
   "source": [
    "emails_re=re.compile(r'.* - \\w+@\\w+\\.\\w+')"
   ]
  },
  {
   "cell_type": "code",
   "execution_count": 44,
   "id": "e0616db8-fd1f-4dd7-b3bf-94e34a86c24c",
   "metadata": {},
   "outputs": [
    {
     "data": {
      "text/plain": [
       "['ahmet ahmedow - ahmedowahmet475@gmail.com',\n",
       " 'bashim muha - bashimmuha@gmail.com',\n",
       " 'Prez  chary - prez@lalaland.far']"
      ]
     },
     "execution_count": 44,
     "metadata": {},
     "output_type": "execute_result"
    }
   ],
   "source": [
    "emails_re.findall(new_text)"
   ]
  },
  {
   "cell_type": "code",
   "execution_count": 45,
   "id": "4ca66662-b2ef-42c5-b1f5-83ab71e6ea13",
   "metadata": {},
   "outputs": [],
   "source": [
    "\n",
    "## with groups (.*)everything before the parenthesis and after ((\\w+@\\w+\\.\\w+))\n",
    "emails_re=re.compile(r'(.*) - (\\w+@\\w+\\.\\w+)')"
   ]
  },
  {
   "cell_type": "code",
   "execution_count": 46,
   "id": "4dfa01f8-8b5e-428d-9c32-9f7112fdac54",
   "metadata": {},
   "outputs": [],
   "source": [
    "response=emails_re.search(new_text)"
   ]
  },
  {
   "cell_type": "code",
   "execution_count": 47,
   "id": "038b3635-c1a4-4695-af11-08bcea665f58",
   "metadata": {},
   "outputs": [
    {
     "name": "stdout",
     "output_type": "stream",
     "text": [
      "ahmet ahmedow\n",
      "ahmedowahmet475@gmail.com\n"
     ]
    }
   ],
   "source": [
    "name,email= response[1],response[2]\n",
    "print(name)\n",
    "print(email)\n",
    "\n",
    "#error caused by my  sample new_text"
   ]
  },
  {
   "cell_type": "code",
   "execution_count": 50,
   "id": "8d8b567c-56c9-4b74-80c8-250ec099b6c8",
   "metadata": {},
   "outputs": [
    {
     "ename": "IndexError",
     "evalue": "no such group",
     "output_type": "error",
     "traceback": [
      "\u001b[1;31m---------------------------------------------------------------------------\u001b[0m",
      "\u001b[1;31mIndexError\u001b[0m                                Traceback (most recent call last)",
      "Cell \u001b[1;32mIn[50], line 4\u001b[0m\n\u001b[0;32m      2\u001b[0m resp\u001b[38;5;241m=\u001b[39memail_re\u001b[38;5;241m.\u001b[39msearch(new_text)\n\u001b[0;32m      3\u001b[0m \u001b[38;5;28;01mif\u001b[39;00m resp:\n\u001b[1;32m----> 4\u001b[0m     name, email\u001b[38;5;241m=\u001b[39mresp[\u001b[38;5;241m1\u001b[39m], resp[\u001b[38;5;241m2\u001b[39m]\n\u001b[0;32m      5\u001b[0m     \u001b[38;5;28mprint\u001b[39m(\u001b[38;5;124m'\u001b[39m\u001b[38;5;124m*\u001b[39m\u001b[38;5;124m'\u001b[39m\u001b[38;5;241m*\u001b[39m\u001b[38;5;241m15\u001b[39m)\n\u001b[0;32m      6\u001b[0m     \u001b[38;5;28mprint\u001b[39m(\u001b[38;5;124mf\u001b[39m\u001b[38;5;124m\"\u001b[39m\u001b[38;5;124mName:\u001b[39m\u001b[38;5;132;01m{\u001b[39;00mname\u001b[38;5;132;01m}\u001b[39;00m\u001b[38;5;124m;Emails:\u001b[39m\u001b[38;5;132;01m{\u001b[39;00memail\u001b[38;5;132;01m}\u001b[39;00m\u001b[38;5;124m\"\u001b[39m)\n",
      "\u001b[1;31mIndexError\u001b[0m: no such group"
     ]
    }
   ],
   "source": [
    "for line in new_text.split('\\n'):\n",
    "    resp=email_re.search(new_text)\n",
    "    if resp:\n",
    "        name, email=resp[1], resp[2]\n",
    "        print('*'*15)\n",
    "        print(f\"Name:{name};Emails:{email}\")\n",
    "        "
   ]
  },
  {
   "cell_type": "code",
   "execution_count": null,
   "id": "edbd8e39-30de-4ac0-8254-667a7d67cdf2",
   "metadata": {},
   "outputs": [],
   "source": []
  }
 ],
 "metadata": {
  "kernelspec": {
   "display_name": "Python 3 (ipykernel)",
   "language": "python",
   "name": "python3"
  },
  "language_info": {
   "codemirror_mode": {
    "name": "ipython",
    "version": 3
   },
   "file_extension": ".py",
   "mimetype": "text/x-python",
   "name": "python",
   "nbconvert_exporter": "python",
   "pygments_lexer": "ipython3",
   "version": "3.11.7"
  }
 },
 "nbformat": 4,
 "nbformat_minor": 5
}
