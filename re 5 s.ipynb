{
 "cells": [
  {
   "cell_type": "code",
   "execution_count": 9,
   "id": "e49efca4-7d11-44f7-bbda-b3dd1490a551",
   "metadata": {},
   "outputs": [],
   "source": [
    "import re"
   ]
  },
  {
   "cell_type": "code",
   "execution_count": 10,
   "id": "06b34741-26e7-4e48-b82f-4f36f4c52482",
   "metadata": {},
   "outputs": [],
   "source": [
    "#regex special characters \\s ,\\S \\W ,\\D"
   ]
  },
  {
   "cell_type": "code",
   "execution_count": 11,
   "id": "7e0243a4-db27-4c69-b805-6b6321be2992",
   "metadata": {},
   "outputs": [],
   "source": [
    "space=re.compile(r'\\s{3}')"
   ]
  },
  {
   "cell_type": "code",
   "execution_count": 12,
   "id": "3f3c39bb-8c95-4e05-ac52-ab7e83de62d3",
   "metadata": {},
   "outputs": [],
   "source": [
    "sentence='Hey! I like to use lots of spaces!! Cool beans. '"
   ]
  },
  {
   "cell_type": "code",
   "execution_count": 13,
   "id": "47ae0a69-39af-4494-8614-6daf7cfebddd",
   "metadata": {},
   "outputs": [],
   "source": [
    "space.search(sentence)"
   ]
  },
  {
   "cell_type": "code",
   "execution_count": 15,
   "id": "055198c0-4ba1-40a6-8149-05ea89d86029",
   "metadata": {},
   "outputs": [
    {
     "data": {
      "text/plain": [
       "<re.Match object; span=(27, 32), match='space'>"
      ]
     },
     "execution_count": 15,
     "metadata": {},
     "output_type": "execute_result"
    }
   ],
   "source": [
    "not_space=re.compile(r'\\S{5}')\n",
    "not_space.search(sentence)"
   ]
  },
  {
   "cell_type": "code",
   "execution_count": 18,
   "id": "da6ab652-361b-4820-a4d4-bc2609809215",
   "metadata": {},
   "outputs": [],
   "source": [
    "four_ltr=re.compile(r'\\s\\S{{4}\\s')\n",
    "four_ltr.search(sentence)"
   ]
  },
  {
   "cell_type": "code",
   "execution_count": 25,
   "id": "cd087e9e-f7b6-43fd-832b-dc8fc581242b",
   "metadata": {},
   "outputs": [],
   "source": [
    "non_dig=re.compile(r\"Cool \\D{5}\")"
   ]
  },
  {
   "cell_type": "code",
   "execution_count": 26,
   "id": "988aa9e2-a561-410b-ab0e-572850bfd792",
   "metadata": {},
   "outputs": [
    {
     "data": {
      "text/plain": [
       "<re.Match object; span=(36, 46), match='Cool beans'>"
      ]
     },
     "execution_count": 26,
     "metadata": {},
     "output_type": "execute_result"
    }
   ],
   "source": [
    "non_dig.search(sentence)"
   ]
  },
  {
   "cell_type": "code",
   "execution_count": 27,
   "id": "58ce465a-f13c-462e-b2bf-2da56c7d91bb",
   "metadata": {},
   "outputs": [
    {
     "data": {
      "text/plain": [
       "<re.Match object; span=(0, 10), match='Cool beans'>"
      ]
     },
     "execution_count": 27,
     "metadata": {},
     "output_type": "execute_result"
    }
   ],
   "source": [
    "new_sent=\"Cool beans5!\"\n",
    "non_dig.search(new_sent)"
   ]
  },
  {
   "cell_type": "code",
   "execution_count": null,
   "id": "4925bd6c-dc6a-4ab2-9b27-42a2dd063b17",
   "metadata": {},
   "outputs": [],
   "source": []
  }
 ],
 "metadata": {
  "kernelspec": {
   "display_name": "Python 3 (ipykernel)",
   "language": "python",
   "name": "python3"
  },
  "language_info": {
   "codemirror_mode": {
    "name": "ipython",
    "version": 3
   },
   "file_extension": ".py",
   "mimetype": "text/x-python",
   "name": "python",
   "nbconvert_exporter": "python",
   "pygments_lexer": "ipython3",
   "version": "3.11.7"
  }
 },
 "nbformat": 4,
 "nbformat_minor": 5
}
