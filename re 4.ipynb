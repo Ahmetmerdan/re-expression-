{
 "cells": [
  {
   "cell_type": "code",
   "execution_count": 2,
   "id": "95e0955e-1cb7-4051-96b6-6f295206a586",
   "metadata": {},
   "outputs": [],
   "source": [
    "import re \n"
   ]
  },
  {
   "cell_type": "code",
   "execution_count": 5,
   "id": "930e46cf-8c8e-493b-8429-d81dea005a44",
   "metadata": {},
   "outputs": [
    {
     "data": {
      "text/plain": [
       "re.compile(r'[0-9]', re.UNICODE)"
      ]
     },
     "execution_count": 5,
     "metadata": {},
     "output_type": "execute_result"
    }
   ],
   "source": [
    "digit_re=re.compile(r'[0-9]')\n",
    "digit_re"
   ]
  },
  {
   "cell_type": "code",
   "execution_count": 6,
   "id": "16297c2d-e8d0-4a59-a583-1f5ce6473ee7",
   "metadata": {},
   "outputs": [
    {
     "data": {
      "text/plain": [
       "<re.Match object; span=(0, 1), match='1'>"
      ]
     },
     "execution_count": 6,
     "metadata": {},
     "output_type": "execute_result"
    }
   ],
   "source": [
    "numbers=\"123 45\"\n",
    "digit_re.search(numbers)"
   ]
  },
  {
   "cell_type": "code",
   "execution_count": 7,
   "id": "11a63ca0-b27d-403c-ba24-1081e8b447da",
   "metadata": {},
   "outputs": [
    {
     "data": {
      "text/plain": [
       "<re.Match object; span=(0, 1), match='1'>"
      ]
     },
     "execution_count": 7,
     "metadata": {},
     "output_type": "execute_result"
    }
   ],
   "source": [
    "re.search(r\"\\d\",numbers) "
   ]
  },
  {
   "cell_type": "raw",
   "id": "0fd88448-3f3a-4264-9763-0d88e498b351",
   "metadata": {},
   "source": [
    "#lets say that you want to capture multiple capture of same name then it is convinient to use sets"
   ]
  },
  {
   "cell_type": "code",
   "execution_count": 8,
   "id": "a2d93665-18b7-411a-8143-f9d9a770dcb7",
   "metadata": {},
   "outputs": [],
   "source": [
    "bob_re =re.compile(r\"b[ao]b\")"
   ]
  },
  {
   "cell_type": "code",
   "execution_count": 9,
   "id": "da87b743-eb8a-4f3d-8124-063e94ac7972",
   "metadata": {},
   "outputs": [
    {
     "data": {
      "text/plain": [
       "<re.Match object; span=(0, 3), match='bob'>"
      ]
     },
     "execution_count": 9,
     "metadata": {},
     "output_type": "execute_result"
    }
   ],
   "source": [
    "bob_re.search('bob')"
   ]
  },
  {
   "cell_type": "code",
   "execution_count": 13,
   "id": "8648d7aa-d70d-402b-bceb-a6b7d5c64ca6",
   "metadata": {},
   "outputs": [
    {
     "data": {
      "text/plain": [
       "<re.Match object; span=(0, 3), match='bab'>"
      ]
     },
     "execution_count": 13,
     "metadata": {},
     "output_type": "execute_result"
    }
   ],
   "source": [
    "bob_re.search('bab')"
   ]
  },
  {
   "cell_type": "code",
   "execution_count": 22,
   "id": "b0fa0f18-5f9d-4acc-9ba0-c949f979f769",
   "metadata": {},
   "outputs": [],
   "source": [
    "bob_re =re.compile(r\"b[aow]+b\")"
   ]
  },
  {
   "cell_type": "code",
   "execution_count": 23,
   "id": "a8d5c5fe-583d-4271-8524-0f75157c87f5",
   "metadata": {},
   "outputs": [
    {
     "data": {
      "text/plain": [
       "<re.Match object; span=(0, 4), match='bawb'>"
      ]
     },
     "execution_count": 23,
     "metadata": {},
     "output_type": "execute_result"
    }
   ],
   "source": [
    "bob_re.search('bawb')"
   ]
  },
  {
   "cell_type": "code",
   "execution_count": 25,
   "id": "3873e7ca-c92b-4c0f-921f-1f69fe8739d1",
   "metadata": {},
   "outputs": [
    {
     "data": {
      "text/plain": [
       "<re.Match object; span=(0, 4), match='bawb'>"
      ]
     },
     "execution_count": 25,
     "metadata": {},
     "output_type": "execute_result"
    }
   ],
   "source": [
    "bob_re =re.compile(r\"b[aow]{2}b\")\n",
    "bob_re.search('bawb')"
   ]
  },
  {
   "cell_type": "code",
   "execution_count": 34,
   "id": "b10e8ecb-0179-4f59-a401-b4246abd0f76",
   "metadata": {},
   "outputs": [],
   "source": [
    "phone_re=re.compile(r'\\d{3}- \\d{3} - \\d{2}')"
   ]
  },
  {
   "cell_type": "code",
   "execution_count": 35,
   "id": "69fc75d5-ec7a-4fa9-a960-512f5083d5ab",
   "metadata": {},
   "outputs": [],
   "source": [
    "phone_re.search('my phone number is 64316828')"
   ]
  },
  {
   "cell_type": "code",
   "execution_count": null,
   "id": "3d6cb076-708c-43a9-a462-fb55c3cdfbf9",
   "metadata": {},
   "outputs": [],
   "source": []
  }
 ],
 "metadata": {
  "kernelspec": {
   "display_name": "Python 3 (ipykernel)",
   "language": "python",
   "name": "python3"
  },
  "language_info": {
   "codemirror_mode": {
    "name": "ipython",
    "version": 3
   },
   "file_extension": ".py",
   "mimetype": "text/x-python",
   "name": "python",
   "nbconvert_exporter": "python",
   "pygments_lexer": "ipython3",
   "version": "3.11.7"
  }
 },
 "nbformat": 4,
 "nbformat_minor": 5
}
